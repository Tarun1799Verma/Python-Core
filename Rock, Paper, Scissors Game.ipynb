{
 "cells": [
  {
   "cell_type": "code",
   "execution_count": 2,
   "id": "104cb192",
   "metadata": {},
   "outputs": [
    {
     "name": "stdout",
     "output_type": "stream",
     "text": [
      "What do you choose? Type 0 for Rock, 1 for Paper or 2 for Scissors.\n",
      "2\n",
      "You choose:\n",
      " \n",
      "    _______\n",
      "---'   ____)____\n",
      "          ______)\n",
      "       __________)\n",
      "      (____)\n",
      "---.__(___)\n",
      " \n",
      "\n",
      "Computer choose:\n",
      " \n",
      "    _______\n",
      "---'   ____)____\n",
      "          ______)\n",
      "       __________)\n",
      "      (____)\n",
      "---.__(___)\n",
      "\n",
      "Tie\n"
     ]
    }
   ],
   "source": [
    "rock = '''\n",
    "    _______\n",
    "---'   ____)\n",
    "      (_____)\n",
    "      (_____)\n",
    "      (____)\n",
    "---.__(___)\n",
    "'''\n",
    "\n",
    "paper = '''\n",
    "    _______\n",
    "---'   ____)____\n",
    "          ______)\n",
    "          _______)\n",
    "         _______)\n",
    "---.__________)\n",
    "'''\n",
    "\n",
    "scissors = '''\n",
    "    _______\n",
    "---'   ____)____\n",
    "          ______)\n",
    "       __________)\n",
    "      (____)\n",
    "---.__(___)\n",
    "'''\n",
    "\n",
    "#Write your code below this line 👇\n",
    "import random\n",
    "player = int(input(\"What do you choose? Type 0 for Rock, 1 for Paper or 2 for Scissors.\\n\"))\n",
    "computer = random.randint(0,2)\n",
    "if player >= 3 or player < 0:\n",
    "  print(\"You enterd a invalid number! You lose\")\n",
    "else:\n",
    "  li = [rock, paper, scissors]\n",
    "  print('You choose:\\n', li[player], \"\\n\")\n",
    "  print('Computer choose:\\n', li[computer])\n",
    "  if player == computer:\n",
    "    print(\"Tie\")\n",
    "  elif player == 0:\n",
    "    if computer == 1:\n",
    "      print('You lose')\n",
    "    else:\n",
    "      print('You win')\n",
    "  elif player == 1:\n",
    "    if computer == 2:\n",
    "      print('You lose')\n",
    "    else:\n",
    "      print('You win')\n",
    "  elif player == 2:\n",
    "    if computer == 0:\n",
    "      print(\"You lose\")\n",
    "    else:\n",
    "      print(\"You win\")\n"
   ]
  },
  {
   "cell_type": "code",
   "execution_count": null,
   "id": "98f112fc",
   "metadata": {},
   "outputs": [],
   "source": []
  }
 ],
 "metadata": {
  "kernelspec": {
   "display_name": "Python 3 (ipykernel)",
   "language": "python",
   "name": "python3"
  },
  "language_info": {
   "codemirror_mode": {
    "name": "ipython",
    "version": 3
   },
   "file_extension": ".py",
   "mimetype": "text/x-python",
   "name": "python",
   "nbconvert_exporter": "python",
   "pygments_lexer": "ipython3",
   "version": "3.9.7"
  }
 },
 "nbformat": 4,
 "nbformat_minor": 5
}
